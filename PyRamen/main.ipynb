{
 "cells": [
  {
   "cell_type": "code",
   "execution_count": null,
   "metadata": {},
   "outputs": [],
   "source": [
    "report = {}\n",
    "menu = []\n",
    "sales = []\n",
    "\n",
    "from pathlib import Path\n",
    "import csv\n",
    "menu_cp = Path(\"menu_data.csv\")\n",
    "with open(menu_cp, \"r\") as menu_file:\n",
    "    menu_reader = csv.reader(menu_file, delimiter = \",\")\n",
    "    menu_header = next(menu_reader)\n",
    "    \n",
    "    for row in menu_reader:\n",
    "        menu.append(row)\n",
    "        \n",
    "sales_cp = Path(\"sales_data.csv\")\n",
    "with open(sales_cp, \"r\") as sales_file:\n",
    "    sales_reader = csv.reader(sales_file, delimiter = \",\")\n",
    "    sales_header = next(sales_reader)\n",
    "    \n",
    "    for row in sales_reader:\n",
    "        sales.append(row)\n",
    "print row[1]\n",
    "        \n",
    "\n",
    "    \n",
    "        \n"
   ]
  }
 ],
 "metadata": {
  "kernelspec": {
   "display_name": "Python 3",
   "language": "python",
   "name": "python3"
  },
  "language_info": {
   "codemirror_mode": {
    "name": "ipython",
    "version": 3
   },
   "file_extension": ".py",
   "mimetype": "text/x-python",
   "name": "python",
   "nbconvert_exporter": "python",
   "pygments_lexer": "ipython3",
   "version": "3.7.6"
  }
 },
 "nbformat": 4,
 "nbformat_minor": 4
}
